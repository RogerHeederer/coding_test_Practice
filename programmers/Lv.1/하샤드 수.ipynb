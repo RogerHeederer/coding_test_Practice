{
 "cells": [
  {
   "cell_type": "markdown",
   "metadata": {},
   "source": [
    "## 하샤드수\n",
    "[문제]\n",
    "양의 정수 x가 하샤드 수이려면 x의 자릿수의 합으로 x가 나누어져야 합니다.   \n",
    "예를 들어 18의 자릿수 합은 1+8=9이고, 18은 9로 나누어 떨어지므로 18은 하샤드 수입니다.   \n",
    "자연수 x를 입력받아 x가 하샤드 수인지 아닌지 검사하는 함수, solution을 완성해주세요.  \n",
    "\n",
    "----\n",
    "\n",
    "1) 양의 정수 x의 자릿수 합 구하기  \n",
    "   - sol) 문자열로 만들고 리스트에 넣어서 하나씩 더하기  \n",
    "   \n",
    "2) x를 자릿수의 합으로 나누기\n",
    "   - sol) if else를 사용하여 나누어 떨어지면( x%n ==0) answer = True   \n",
    "     그렇지 않으면 False 할당"
   ]
  },
  {
   "cell_type": "code",
   "execution_count": 27,
   "metadata": {},
   "outputs": [
    {
     "name": "stdout",
     "output_type": "stream",
     "text": [
      "True\n"
     ]
    }
   ],
   "source": [
    "def solution(x):\n",
    "    arr = [i for i in str(x)[0:]]\n",
    "    n = 0\n",
    "    for i in arr :\n",
    "        n += int(i)\n",
    "        \n",
    "    if int(x) % n == 0:\n",
    "        answer = True  \n",
    "    else:\n",
    "        answer = False\n",
    "\n",
    "    return answer\n",
    "\n",
    "print(solution(10))"
   ]
  },
  {
   "cell_type": "markdown",
   "metadata": {},
   "source": [
    "if else를 한 줄로 표현했습니다.\n"
   ]
  },
  {
   "cell_type": "code",
   "execution_count": 24,
   "metadata": {
    "scrolled": true
   },
   "outputs": [
    {
     "name": "stdout",
     "output_type": "stream",
     "text": [
      "True\n"
     ]
    }
   ],
   "source": [
    "def solution(x):\n",
    "    arr = [i for i in str(x)[0:]]\n",
    "    n = 0\n",
    "    for i in arr :\n",
    "        n += int(i)\n",
    "\n",
    "    answer = True if int(x) % n == 0 else False\n",
    "\n",
    "    return answer\n",
    "\n",
    "print(solution(10))"
   ]
  },
  {
   "cell_type": "markdown",
   "metadata": {},
   "source": [
    "arr 변수를 생략하고,   \n",
    "  \n",
    "정수형 x를 문자열 리스트로 만드는 for문을   \n",
    "  \n",
    "x의 자릿수 합을 구하는 for문에 바로 사용했습니다."
   ]
  },
  {
   "cell_type": "code",
   "execution_count": 34,
   "metadata": {},
   "outputs": [
    {
     "name": "stdout",
     "output_type": "stream",
     "text": [
      "True\n"
     ]
    }
   ],
   "source": [
    "def solution(x):\n",
    "    n=0\n",
    "    for i in [i for i in str(x)[0:]] :\n",
    "        n += int(i)\n",
    "\n",
    "    answer = True if int(x) % n == 0 else False\n",
    "\n",
    "    return answer\n",
    "\n",
    "print(solution(10))"
   ]
  }
 ],
 "metadata": {
  "kernelspec": {
   "display_name": "Python 3",
   "language": "python",
   "name": "python3"
  },
  "language_info": {
   "codemirror_mode": {
    "name": "ipython",
    "version": 3
   },
   "file_extension": ".py",
   "mimetype": "text/x-python",
   "name": "python",
   "nbconvert_exporter": "python",
   "pygments_lexer": "ipython3",
   "version": "3.7.6"
  }
 },
 "nbformat": 4,
 "nbformat_minor": 4
}
