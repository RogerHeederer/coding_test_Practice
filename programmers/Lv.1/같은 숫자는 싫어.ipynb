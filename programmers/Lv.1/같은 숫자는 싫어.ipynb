{
 "cells": [
  {
   "cell_type": "code",
   "execution_count": 2,
   "metadata": {},
   "outputs": [
    {
     "name": "stdout",
     "output_type": "stream",
     "text": [
      "[1, 3, 0, 1]\n",
      "[3, 4, 2, 3, 5, 7, 8, 96, 5, 4, 7, 8, 4, 5, 2]\n"
     ]
    }
   ],
   "source": [
    "def solution(arr):\n",
    "    answer = []\n",
    "    for i in arr:\n",
    "        if len(answer) >=1:\n",
    "            if i == answer[-1] :\n",
    "                pass\n",
    "            else:\n",
    "                answer.append(i)\n",
    "        else :\n",
    "            answer.append(i)\n",
    "\n",
    "    return answer\n",
    "\n",
    "\n",
    "print(solution([1,1,3,3,0,1,1]))\n",
    "print(solution([3,4,4,2,3,5,7,8,96,5,4,7,8,8,8,4,5,2]))"
   ]
  }
 ],
 "metadata": {
  "kernelspec": {
   "display_name": "Python 3",
   "language": "python",
   "name": "python3"
  },
  "language_info": {
   "codemirror_mode": {
    "name": "ipython",
    "version": 3
   },
   "file_extension": ".py",
   "mimetype": "text/x-python",
   "name": "python",
   "nbconvert_exporter": "python",
   "pygments_lexer": "ipython3",
   "version": "3.7.6"
  }
 },
 "nbformat": 4,
 "nbformat_minor": 4
}
