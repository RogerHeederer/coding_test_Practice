{
 "cells": [
  {
   "cell_type": "markdown",
   "metadata": {},
   "source": [
    "#### 자연수 뒤집어 배열로 만들기\n",
    "자연수 n을 뒤집어 각 자리 숫자를 원소로 가지는 배열 형태로 리턴해주세요. 예를들어 n이 12345이면 [5,4,3,2,1]을 리턴합니다.\n",
    "\n",
    "- 입력 받은 n은 정수형태입니다.   \n",
    "1)  정수형 -> 문자열 -> 리스트로 바꾸고    \n",
    "2)  인덱스 [::-1] 을 이용하여 배열의 형태를 뒤집었습니다.    \n",
    "3)  뒤집어진 문자열 숫자 리스트를 하나씩 정수형으로 만들며 answer에 넣어줍니다.   "
   ]
  },
  {
   "cell_type": "code",
   "execution_count": 1,
   "metadata": {},
   "outputs": [
    {
     "name": "stdout",
     "output_type": "stream",
     "text": [
      "[9, 6, 4, 2, 3, 1]\n",
      "[3, 1, 2, 2, 2, 9]\n",
      "[8, 4, 9, 9, 5, 2, 3]\n"
     ]
    }
   ],
   "source": [
    "def solution(n):\n",
    "    n = list(str(n))[::-1]\n",
    "    answer = [int(i) for i in n]\n",
    "    return answer\n",
    "\n",
    "\n",
    "print(solution(132469))\n",
    "print(solution(922213))\n",
    "print(solution(3259948))"
   ]
  }
 ],
 "metadata": {
  "kernelspec": {
   "display_name": "Python 3",
   "language": "python",
   "name": "python3"
  },
  "language_info": {
   "codemirror_mode": {
    "name": "ipython",
    "version": 3
   },
   "file_extension": ".py",
   "mimetype": "text/x-python",
   "name": "python",
   "nbconvert_exporter": "python",
   "pygments_lexer": "ipython3",
   "version": "3.7.6"
  }
 },
 "nbformat": 4,
 "nbformat_minor": 4
}
