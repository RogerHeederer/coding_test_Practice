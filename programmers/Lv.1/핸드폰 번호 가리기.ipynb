{
 "cells": [
  {
   "cell_type": "markdown",
   "metadata": {},
   "source": [
    "이번 문제는 핸드폰 번호 가리기입니다.  \n",
    "문자열이 주어지면, 뒤의 4자리를 제외한 나머지 문자열을 *별표시 로 가리는 것입니다.  \n",
    "- s는 길이 4 이상, 20이하인 문자열입니다.\n",
    "\n",
    "따라서 저는 replace 함수를 사용했습니다.  \n",
    "repalce()함수는   \n",
    "replace('a', 'b')로 하면,   \n",
    "문자열에 있는 'a' 단어를 'b'단어로 바꾸는 함수입니다!  \n",
    "\n",
    "이를 통해  \n",
    "뒤에서 4자리 전까지의 모든 문자열을  \n",
    "총 길이의 4를뺀 만큼  별표시를 곱해서 바꾸었습니다!\n",
    "\n"
   ]
  },
  {
   "cell_type": "code",
   "execution_count": 4,
   "metadata": {},
   "outputs": [
    {
     "name": "stdout",
     "output_type": "stream",
     "text": [
      "********1383\n",
      "*********0199\n",
      "***3456\n"
     ]
    }
   ],
   "source": [
    "def solution(phone_number):\n",
    "    answer = phone_number.replace(phone_number[:-4],'*'*(len(phone_number)-4))\n",
    "    return answer\n",
    "\n",
    "print(solution('654321601383'))\n",
    "print(solution('6543786300199'))\n",
    "print(solution('6543456'))"
   ]
  }
 ],
 "metadata": {
  "kernelspec": {
   "display_name": "Python 3",
   "language": "python",
   "name": "python3"
  },
  "language_info": {
   "codemirror_mode": {
    "name": "ipython",
    "version": 3
   },
   "file_extension": ".py",
   "mimetype": "text/x-python",
   "name": "python",
   "nbconvert_exporter": "python",
   "pygments_lexer": "ipython3",
   "version": "3.7.6"
  }
 },
 "nbformat": 4,
 "nbformat_minor": 4
}
