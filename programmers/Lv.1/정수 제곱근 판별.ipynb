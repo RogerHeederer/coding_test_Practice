{
 "cells": [
  {
   "cell_type": "markdown",
   "metadata": {},
   "source": [
    "### 정수 제곱근 판별\n",
    "- 입력받은 n에 제곱근을 씌워줍니다.   \n",
    "  -> 이때 n의 제곱근의 값이 정수가 아니면 너무 큰 소수가 나올 수 도 있으므로 소수 둘째자리에서 반올림을 했습니다\n",
    "    \n",
    "     \n",
    "- 이 n이 정수이면,  n의 제곱근 값에 1을 더하고 제곱을 하였고,  \n",
    "- 이 n이 소수이면, -1을 출력합니다."
   ]
  },
  {
   "cell_type": "code",
   "execution_count": 15,
   "metadata": {},
   "outputs": [
    {
     "name": "stdout",
     "output_type": "stream",
     "text": [
      "-1\n",
      "441.0\n",
      "196.0\n"
     ]
    }
   ],
   "source": [
    "def solution(n):\n",
    "    n = round(n**(0.5),1)    \n",
    "    if n == int(n):            \n",
    "        answer = (n+1)**2\n",
    "    else :\n",
    "        answer = -1\n",
    "    return answer"
   ]
  },
  {
   "cell_type": "markdown",
   "metadata": {},
   "source": [
    "파이써닉하게 바꾸어 보았습니다! :) (뿌듯..👨‍💻)"
   ]
  },
  {
   "cell_type": "code",
   "execution_count": 19,
   "metadata": {},
   "outputs": [
    {
     "name": "stdout",
     "output_type": "stream",
     "text": [
      "-1\n",
      "441.0\n",
      "196.0\n"
     ]
    }
   ],
   "source": [
    "def solution(n):\n",
    "    n = round(n**(0.5),1)    \n",
    "    answer = (n+1)**2 if n == int(n) else  -1             \n",
    "    return answer\n",
    "\n",
    "print(solution(7))\n",
    "print(solution(400))\n",
    "print(solution(169))"
   ]
  }
 ],
 "metadata": {
  "kernelspec": {
   "display_name": "Python 3",
   "language": "python",
   "name": "python3"
  },
  "language_info": {
   "codemirror_mode": {
    "name": "ipython",
    "version": 3
   },
   "file_extension": ".py",
   "mimetype": "text/x-python",
   "name": "python",
   "nbconvert_exporter": "python",
   "pygments_lexer": "ipython3",
   "version": "3.7.6"
  }
 },
 "nbformat": 4,
 "nbformat_minor": 4
}
