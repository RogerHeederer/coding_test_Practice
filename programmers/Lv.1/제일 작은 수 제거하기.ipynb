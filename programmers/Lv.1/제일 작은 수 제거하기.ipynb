{
 "cells": [
  {
   "cell_type": "markdown",
   "metadata": {},
   "source": [
    "### 제일 작은 수 제거하기\n",
    "- 정수를 저장한 배열, arr 에서 가장 작은 수를 제거한 배열을 리턴하는 함수, solution을 완성해야한다.     \n",
    "     \n",
    "- step 1. arr의 element가 1이라면, -1을 return한다\n",
    "- step 2. 제일 작은 수를 찾는다.\n",
    "- step 3. 제일 작은 수를 arr에서 뺀다. (이때, arr의 빼는 element를 제외한 나머지 index 변하면 안된다)  \n",
    "  \n",
    "---  \n",
    "- 제일 작은 수를 찾기위해서 정렬 후 맨 앞에있는 값(제일 작은 값)을 arr_min에 저장하고  \n",
    "- arr에서 그 element를 찾아서 빼도록 했습니다!"
   ]
  },
  {
   "cell_type": "code",
   "execution_count": 5,
   "metadata": {},
   "outputs": [
    {
     "name": "stdout",
     "output_type": "stream",
     "text": [
      "[-1]\n",
      "[4, 3, 2]\n",
      "[-4, 3, 7]\n",
      "[3, 1, 5, 2]\n"
     ]
    }
   ],
   "source": [
    "def solution(arr):\n",
    "    answer = []\n",
    "    if len(arr) == 1:\n",
    "        answer.append(-1)\n",
    "    \n",
    "    else: \n",
    "        arr_min = sorted(arr).pop(0)\n",
    "        arr.remove(arr_min)\n",
    "        answer = arr\n",
    "\n",
    "    return answer\n",
    "\n",
    "print(solution([7]))\n",
    "print(solution([4,3,2,1]))\n",
    "print(solution([-4,3,-6.4,7]))\n",
    "print(solution([3,1,5,0,2]))"
   ]
  }
 ],
 "metadata": {
  "kernelspec": {
   "display_name": "Python 3",
   "language": "python",
   "name": "python3"
  },
  "language_info": {
   "codemirror_mode": {
    "name": "ipython",
    "version": 3
   },
   "file_extension": ".py",
   "mimetype": "text/x-python",
   "name": "python",
   "nbconvert_exporter": "python",
   "pygments_lexer": "ipython3",
   "version": "3.7.6"
  }
 },
 "nbformat": 4,
 "nbformat_minor": 4
}
