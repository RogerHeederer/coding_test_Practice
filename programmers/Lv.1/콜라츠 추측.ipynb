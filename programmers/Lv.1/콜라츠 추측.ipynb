{
 "cells": [
  {
   "cell_type": "code",
   "execution_count": null,
   "metadata": {},
   "outputs": [],
   "source": [
    "def solution(num):\n",
    "    answer,count = 0,0\n",
    "\n",
    "    if num == 1:\n",
    "        answer = 0\n",
    "\n",
    "    else:\n",
    "        while count < 500:\n",
    "\n",
    "            if num%2 == 0:\n",
    "                num = num/2\n",
    "            else :\n",
    "                num = num*3 +1\n",
    "            count += 1 \n",
    "\n",
    "            if num == 1:\n",
    "                answer= count\n",
    "                break\n",
    "\n",
    "    if count >= 500:\n",
    "        answer = -1 \n",
    "\n",
    "    return answer"
   ]
  }
 ],
 "metadata": {
  "kernelspec": {
   "display_name": "Python 3",
   "language": "python",
   "name": "python3"
  },
  "language_info": {
   "codemirror_mode": {
    "name": "ipython",
    "version": 3
   },
   "file_extension": ".py",
   "mimetype": "text/x-python",
   "name": "python",
   "nbconvert_exporter": "python",
   "pygments_lexer": "ipython3",
   "version": "3.7.6"
  }
 },
 "nbformat": 4,
 "nbformat_minor": 4
}
