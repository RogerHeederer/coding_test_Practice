{
 "cells": [
  {
   "cell_type": "code",
   "execution_count": 17,
   "metadata": {},
   "outputs": [
    {
     "name": "stdout",
     "output_type": "stream",
     "text": [
      "['car', 'bed', 'sun']\n",
      "['abcd', 'abce', 'cdx']\n"
     ]
    }
   ],
   "source": [
    "def solution(strings, n):\n",
    "    \n",
    "    answer = []\n",
    "    alphas = []\n",
    "    for i in range(0,len(strings)):\n",
    "\n",
    "        word_index = strings[i][n]          # strings내에 있는 index = n에 해당하는 알파벳\n",
    "        alphas.append(word_index)              # 모두 모으기\n",
    "\n",
    "        alphas = sorted(alphas)             # 모은 알파벳들 오름차순으로 정렬\n",
    "    strings = sorted(strings)               # strings 오름차순 정렬\n",
    "    for i in alphas :                      # 단어의 n번째 알파벳들 하나씩 뽑는다.\n",
    "        for k in range(0,len(strings)):    # strings를 돌면서 n번째 알파벳들이 있는 단어를 찾는다.\n",
    "            if strings[k][n] == i:         # 해당 단어에 n번째 알파벳이 있으면\n",
    "                if strings[k] in answer:       # 먼저 그 해당단어가 answer에 있는지 확인하고\n",
    "                    pass\n",
    "                else:\n",
    "                    answer.append(strings[k])   #해당 단어가 없다면, 해당 단어를 추가한다.\n",
    "                    k+=1                        # 다음 단어로 넘어간다. \n",
    "    return answer\n",
    "print(solution([\"sun\", \"bed\", \"car\"], 1))\n",
    "\n",
    "print(solution(['abce', 'abcd', 'cdx'], 2))\n"
   ]
  },
  {
   "cell_type": "markdown",
   "metadata": {},
   "source": [
    "람다 함수를 이용한 풀이를 보고 조금 충격을 받았다..  \n",
    "위의 로직 생각하느라 1시간 정도가 걸렸었는데 람다함수로 key값만 입력해주면 되었기 때문이다.\n",
    "\n",
    "lambda함수는 존재만 알고있었고 아직 제대로 사용해보지 못해보았는데,    \n",
    "지금부터라도 조금씩 클린코드를 위해 배워야겠다..! "
   ]
  },
  {
   "cell_type": "code",
   "execution_count": 19,
   "metadata": {},
   "outputs": [
    {
     "name": "stdout",
     "output_type": "stream",
     "text": [
      "['car', 'bed', 'sun']\n",
      "['abcd', 'abce', 'cdx']\n"
     ]
    }
   ],
   "source": [
    "def solution(strings,n):\n",
    "    answer = sorted(strings, key =lambda x : x[n]+x[:])\n",
    "    return answer\n",
    "print(solution([\"sun\", \"bed\", \"car\"], 1))\n",
    "\n",
    "\n",
    "print(solution(['abce', 'abcd', 'cdx'], 2))"
   ]
  }
 ],
 "metadata": {
  "kernelspec": {
   "display_name": "Python 3",
   "language": "python",
   "name": "python3"
  },
  "language_info": {
   "codemirror_mode": {
    "name": "ipython",
    "version": 3
   },
   "file_extension": ".py",
   "mimetype": "text/x-python",
   "name": "python",
   "nbconvert_exporter": "python",
   "pygments_lexer": "ipython3",
   "version": "3.7.6"
  }
 },
 "nbformat": 4,
 "nbformat_minor": 4
}
