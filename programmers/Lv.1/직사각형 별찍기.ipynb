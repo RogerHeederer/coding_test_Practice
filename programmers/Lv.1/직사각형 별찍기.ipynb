{
 "cells": [
  {
   "cell_type": "markdown",
   "metadata": {},
   "source": [
    "#### 직사각형 별찍기   \n",
    "이 문제에는 두 개의 정수를 input을 통해 입력받습니다.  \n",
    "입력받은 두 개의 숫자를 띄어쓰기 간격을 통해 a와 b로 map을 통해 선언합니다.  \n",
    "  \n",
    "이때 a,b에 있는 정수만큼 가로 a 개 , 세로 b개 => axb Matrix모양의 별을 만들어야합니다.  \n",
    "  \n",
    "- 저는 1행부터 b행까지 한 행씩 출력하기로 생각했습니다.\n",
    "- stars 에 a만큼의 별모양을 지정하기 위해 문자'*'에 a를 곱해서 a만큼의 '*'을 선언했습니다.\n",
    "- 그리고 for문을 통해 b번 반복해서 b행까지 출력을 해서 완성했습니다!"
   ]
  },
  {
   "cell_type": "code",
   "execution_count": 2,
   "metadata": {},
   "outputs": [
    {
     "name": "stdout",
     "output_type": "stream",
     "text": [
      "6 5\n",
      "******\n",
      "******\n",
      "******\n",
      "******\n",
      "******\n"
     ]
    }
   ],
   "source": [
    "a, b = map(int, input().strip().split(' '))\n",
    "\n",
    "stars = '*'*a\n",
    "\n",
    "for i in range(b):\n",
    "    print(stars)"
   ]
  },
  {
   "cell_type": "markdown",
   "metadata": {},
   "source": [
    "생각해보니  \n",
    "stars를 꼭 선언하지 않고  \n",
    "for문 출력에 바로 ('*'*a)를 해도 됩니다! "
   ]
  },
  {
   "cell_type": "code",
   "execution_count": 1,
   "metadata": {},
   "outputs": [
    {
     "name": "stdout",
     "output_type": "stream",
     "text": [
      "7 5\n",
      "*******\n",
      "*******\n",
      "*******\n",
      "*******\n",
      "*******\n"
     ]
    }
   ],
   "source": [
    "a, b = map(int, input().strip().split(' '))\n",
    "\n",
    "for i in range(b):\n",
    "    print('*'*a)"
   ]
  }
 ],
 "metadata": {
  "kernelspec": {
   "display_name": "Python 3",
   "language": "python",
   "name": "python3"
  },
  "language_info": {
   "codemirror_mode": {
    "name": "ipython",
    "version": 3
   },
   "file_extension": ".py",
   "mimetype": "text/x-python",
   "name": "python",
   "nbconvert_exporter": "python",
   "pygments_lexer": "ipython3",
   "version": "3.7.6"
  }
 },
 "nbformat": 4,
 "nbformat_minor": 4
}
