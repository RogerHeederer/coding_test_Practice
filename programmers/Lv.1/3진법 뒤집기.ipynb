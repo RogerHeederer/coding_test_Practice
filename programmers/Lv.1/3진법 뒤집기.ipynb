{
 "cells": [
  {
   "cell_type": "code",
   "execution_count": 90,
   "metadata": {},
   "outputs": [
    {
     "name": "stdout",
     "output_type": "stream",
     "text": [
      "[1, 2, 0, 0]\n"
     ]
    }
   ],
   "source": [
    "def solution(n):\n",
    "    answer = []\n",
    "    for i in range(30, -1 , -1):        # 나눌 수 있는 가장 큰 값부터 찾아들어가기\n",
    "        a = 3**i                        # 3^i 제곱\n",
    "        quo = n/a                       \n",
    "        \n",
    "        if quo >= 2:\n",
    "            answer.append(2)        # 3진법 표현으로 2추가\n",
    "            n = n - a*2            # n -2*3^i \n",
    "        elif 1<= quo < 2:\n",
    "            answer.append(1)\n",
    "            n = n - a*1\n",
    "\n",
    "        else:\n",
    "            if len(answer) >=1:    #3진법의 맨 앞자리가 0이 아닌경우에만 len(answer)아 1이상이 되기때문에 \n",
    "                answer.append(0)\n",
    "                            \n",
    "    return answer\n",
    "\n",
    "print(solution(45))"
   ]
  },
  {
   "cell_type": "code",
   "execution_count": 99,
   "metadata": {},
   "outputs": [
    {
     "data": {
      "text/plain": [
       "[0, 0, 2, 1]"
      ]
     },
     "execution_count": 99,
     "metadata": {},
     "output_type": "execute_result"
    }
   ],
   "source": [
    "answer = solution(45)[::-1]\n",
    "\n",
    "answer"
   ]
  },
  {
   "cell_type": "code",
   "execution_count": 100,
   "metadata": {},
   "outputs": [
    {
     "data": {
      "text/plain": [
       "7"
      ]
     },
     "execution_count": 100,
     "metadata": {},
     "output_type": "execute_result"
    }
   ],
   "source": [
    "a = len(answer)-1\n",
    "final = 0\n",
    "for i in range(a,-1,-1):\n",
    "    final += answer[a-i]*3**i\n",
    "\n",
    "final"
   ]
  },
  {
   "cell_type": "code",
   "execution_count": 105,
   "metadata": {},
   "outputs": [
    {
     "name": "stdout",
     "output_type": "stream",
     "text": [
      "7 85 8965 53633\n"
     ]
    }
   ],
   "source": [
    "def solution(n):\n",
    "    answer = []\n",
    "    for i in range(30, -1 , -1):        # 나눌 수 있는 가장 큰 값부터 찾아들어가기\n",
    "        a = 3**i                        # 3^i 제곱\n",
    "        quo = n/a                       \n",
    "        \n",
    "        if quo >= 2:\n",
    "            answer.append(2)        # 3진법 표현으로 2추가\n",
    "            n = n - a*2            # n -2*3^i \n",
    "        elif 1<= quo < 2:\n",
    "            answer.append(1)\n",
    "            n = n - a*1\n",
    "\n",
    "        else:\n",
    "            if len(answer) >=1:    #3진법의 맨 앞자리가 0이 아닌경우에만 len(answer)아 1이상이 되기때문에 \n",
    "                answer.append(0)\n",
    "                \n",
    "\n",
    "    answer = answer[::-1]  #삼진법 뒤집기 \n",
    "    a = len(answer)-1\n",
    "    final = 0\n",
    "    for i in range(a,-1,-1):\n",
    "        final += answer[a-i]*3**i\n",
    "\n",
    "    return final\n",
    "\n",
    "print(\n",
    "solution(45),\n",
    "solution(327),\n",
    "solution(7213),\n",
    "solution(42155)\n",
    ")"
   ]
  }
 ],
 "metadata": {
  "kernelspec": {
   "display_name": "Python 3",
   "language": "python",
   "name": "python3"
  },
  "language_info": {
   "codemirror_mode": {
    "name": "ipython",
    "version": 3
   },
   "file_extension": ".py",
   "mimetype": "text/x-python",
   "name": "python",
   "nbconvert_exporter": "python",
   "pygments_lexer": "ipython3",
   "version": "3.7.6"
  }
 },
 "nbformat": 4,
 "nbformat_minor": 4
}
