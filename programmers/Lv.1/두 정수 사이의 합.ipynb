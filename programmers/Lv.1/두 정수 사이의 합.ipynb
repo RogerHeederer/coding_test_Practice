{
 "cells": [
  {
   "cell_type": "markdown",
   "metadata": {},
   "source": [
    "a와 b의 대소관계는 정해져있지 않기때문에\n",
    "디폴트 가정으로 a가 b보다 작거나 같다고 가정하였습니다.\n",
    "\n",
    "그리고 a가 b보다 크게되면, \n",
    "a,b를 바꾸어서 for문으로 들어가게됩니다.\n",
    "\n",
    "그러면 이제 작은 수(a)부터 큰 수(b)까지의 수를 하나씩 증가하며 answer에 더하게 됩니다.\n",
    "\n",
    "이때, range의 뒤b에 1을 더해주어서 b까지 수를 더하게 했습니다."
   ]
  },
  {
   "cell_type": "code",
   "execution_count": 3,
   "metadata": {},
   "outputs": [
    {
     "name": "stdout",
     "output_type": "stream",
     "text": [
      "12\n",
      "3\n",
      "12\n",
      "3060\n",
      "-27\n"
     ]
    }
   ],
   "source": [
    "def solution(a, b):\n",
    "    answer =0\n",
    "    if a > b:\n",
    "        a,b = b,a\n",
    "    for i in range(a,b+1):        \n",
    "        answer += i\n",
    "        \n",
    "    return answer\n",
    "\n",
    "print(solution(3,5))\n",
    "print(solution(3,3))\n",
    "print(solution(5,3))\n",
    "print(solution(-6,78))\n",
    "print(solution(-7,-2))"
   ]
  }
 ],
 "metadata": {
  "kernelspec": {
   "display_name": "Python 3",
   "language": "python",
   "name": "python3"
  },
  "language_info": {
   "codemirror_mode": {
    "name": "ipython",
    "version": 3
   },
   "file_extension": ".py",
   "mimetype": "text/x-python",
   "name": "python",
   "nbconvert_exporter": "python",
   "pygments_lexer": "ipython3",
   "version": "3.7.6"
  }
 },
 "nbformat": 4,
 "nbformat_minor": 4
}
