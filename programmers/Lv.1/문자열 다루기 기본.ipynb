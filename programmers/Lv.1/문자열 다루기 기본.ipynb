{
 "cells": [
  {
   "cell_type": "code",
   "execution_count": 2,
   "metadata": {},
   "outputs": [
    {
     "name": "stdout",
     "output_type": "stream",
     "text": [
      "False\n",
      "True\n",
      "False\n",
      "True\n"
     ]
    }
   ],
   "source": [
    "def solution(s):\n",
    "    if len(s) == 4 or len(s) ==6:\n",
    "        answer = True\n",
    "        \n",
    "        for i in range(0, len(s)):   \n",
    "            \n",
    "            try :\n",
    "                float(s[i]) \n",
    "            except:\n",
    "                answer = False\n",
    "                break\n",
    "                \n",
    "    else :\n",
    "        answer = False\n",
    "    return answer\n",
    "\n",
    "print(solution('654dd233'))\n",
    "print(solution('6633'))\n",
    "print(solution('1sd853'))\n",
    "print(solution('654337'))"
   ]
  }
 ],
 "metadata": {
  "kernelspec": {
   "display_name": "Python 3",
   "language": "python",
   "name": "python3"
  },
  "language_info": {
   "codemirror_mode": {
    "name": "ipython",
    "version": 3
   },
   "file_extension": ".py",
   "mimetype": "text/x-python",
   "name": "python",
   "nbconvert_exporter": "python",
   "pygments_lexer": "ipython3",
   "version": "3.7.6"
  }
 },
 "nbformat": 4,
 "nbformat_minor": 4
}
