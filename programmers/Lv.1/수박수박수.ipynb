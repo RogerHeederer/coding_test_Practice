{
 "cells": [
  {
   "cell_type": "code",
   "execution_count": 1,
   "metadata": {},
   "outputs": [
    {
     "name": "stdout",
     "output_type": "stream",
     "text": [
      "수박수\n",
      "수박수박수박수\n",
      "수박수박수박\n",
      "수박수박수박수박수박수박수박수박\n"
     ]
    }
   ],
   "source": [
    "def solution(n):\n",
    "    answer = ''\n",
    "    for i in range(1,n+1):\n",
    "        if i % 2 == 0:\n",
    "            answer += '박'\n",
    "        else:\n",
    "            answer += '수'\n",
    "    return answer\n",
    "\n",
    "print(solution(3))\n",
    "print(solution(7))\n",
    "print(solution(6))\n",
    "print(solution(16))"
   ]
  }
 ],
 "metadata": {
  "kernelspec": {
   "display_name": "Python 3",
   "language": "python",
   "name": "python3"
  },
  "language_info": {
   "codemirror_mode": {
    "name": "ipython",
    "version": 3
   },
   "file_extension": ".py",
   "mimetype": "text/x-python",
   "name": "python",
   "nbconvert_exporter": "python",
   "pygments_lexer": "ipython3",
   "version": "3.7.6"
  }
 },
 "nbformat": 4,
 "nbformat_minor": 4
}
