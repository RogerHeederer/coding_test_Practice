{
 "cells": [
  {
   "cell_type": "markdown",
   "metadata": {},
   "source": [
    "### 자릿수 더하기\n",
    "\n",
    "[문제 설명]  \n",
    "자연수 N이 주어지면, N의 각 자릿수의 합을 구해서 return 하는 solution 함수를 만들어 주세요.   \n",
    "예를들어 N = 123이면 1 + 2 + 3 = 6을 return 하면 됩니다.  \n",
    "   \n",
    "1) n의 각 정수를 계산하기 위해서 n을 정수 -> 문자열 -> 리스트로 바꾸었습니다.  \n",
    "2) 리스트로 저장 된 하나 하나의 element를 for문을 통해 불러왔습니다.  \n",
    "3) 이때 문자형으로 되어있는 원소를 정수형으로 바꾸고 answer에 더하였습니다.  \n"
   ]
  },
  {
   "cell_type": "code",
   "execution_count": 1,
   "metadata": {},
   "outputs": [
    {
     "name": "stdout",
     "output_type": "stream",
     "text": [
      "18\n",
      "26\n",
      "10\n",
      "69\n"
     ]
    }
   ],
   "source": [
    "def solution(n):\n",
    "    answer = 0\n",
    "    n = list(str(n))\n",
    "    for i in n:\n",
    "        answer += int(i)\n",
    "    return answer\n",
    "\n",
    "print(solution(3654))\n",
    "print(solution(1269251))\n",
    "print(solution(334))\n",
    "print(solution(3932874982374))"
   ]
  }
 ],
 "metadata": {
  "kernelspec": {
   "display_name": "Python 3",
   "language": "python",
   "name": "python3"
  },
  "language_info": {
   "codemirror_mode": {
    "name": "ipython",
    "version": 3
   },
   "file_extension": ".py",
   "mimetype": "text/x-python",
   "name": "python",
   "nbconvert_exporter": "python",
   "pygments_lexer": "ipython3",
   "version": "3.7.6"
  }
 },
 "nbformat": 4,
 "nbformat_minor": 4
}
