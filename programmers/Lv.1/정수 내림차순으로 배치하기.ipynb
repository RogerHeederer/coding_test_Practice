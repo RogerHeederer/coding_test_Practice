{
 "cells": [
  {
   "cell_type": "markdown",
   "metadata": {},
   "source": [
    "### 정수 내림차순으로 배치하기\n",
    "- 정수(int)는 sort가 되지 않습니다. \n",
    "- 따라서 정수형 -> 문자열에서 sorted를 사용하면 list로 오름차순 정렬이 됩니다.\n",
    "- 이때 sorted(n, reverse=True)를 이용해서 거꾸로 , 즉 내림차순으로 정렬합니다.\n",
    "- 그리고 내림차순 된 list를 하나씩 answer에 넣어줍니다.\n",
    "- 이때 answer은 문자열이기때문에  return에서 정수형으로 바꾸었습니다."
   ]
  },
  {
   "cell_type": "code",
   "execution_count": 39,
   "metadata": {},
   "outputs": [
    {
     "data": {
      "text/plain": [
       "433332211"
      ]
     },
     "execution_count": 39,
     "metadata": {},
     "output_type": "execute_result"
    }
   ],
   "source": [
    "def solution(n):\n",
    "    n = str(n)\n",
    "    answer_ = ''\n",
    "    answer = sorted(n, reverse=True)\n",
    "    for i in answer :\n",
    "        answer_ += i\n",
    "    return int(answer_)\n",
    "\n",
    "solution(331243123)"
   ]
  },
  {
   "cell_type": "markdown",
   "metadata": {},
   "source": [
    "- 위에서 for문을 통해 list에서 하나씩 꺼내서 추가했습니다.\n",
    "- 하지만  비어있는 문자열 ''과 join함수를 통해  \n",
    "- for문을 사용하지 않고 리스트를 문자열로 합칠 수 있습니다!"
   ]
  },
  {
   "cell_type": "code",
   "execution_count": 48,
   "metadata": {},
   "outputs": [
    {
     "data": {
      "text/plain": [
       "433332211"
      ]
     },
     "execution_count": 48,
     "metadata": {},
     "output_type": "execute_result"
    }
   ],
   "source": [
    "def solution(n):\n",
    "    n = str(n)\n",
    "    answer = sorted(n, reverse=True)\n",
    "    answer = int(''.join(answer))\n",
    "    return answer\n",
    "\n",
    "solution(331243123)"
   ]
  }
 ],
 "metadata": {
  "kernelspec": {
   "display_name": "Python 3",
   "language": "python",
   "name": "python3"
  },
  "language_info": {
   "codemirror_mode": {
    "name": "ipython",
    "version": 3
   },
   "file_extension": ".py",
   "mimetype": "text/x-python",
   "name": "python",
   "nbconvert_exporter": "python",
   "pygments_lexer": "ipython3",
   "version": "3.7.6"
  }
 },
 "nbformat": 4,
 "nbformat_minor": 4
}
