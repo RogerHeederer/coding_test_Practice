{
 "cells": [
  {
   "cell_type": "markdown",
   "metadata": {},
   "source": [
    "# 예산"
   ]
  },
  {
   "cell_type": "markdown",
   "metadata": {},
   "source": [
    "1. d를 오름차순으로 정렬합니다\n",
    "2. 예산이 적은 부서일수록 index가 낮기때문에 index가 0인 부서부터 예산을 할당합니다.\n",
    "3. 예산을 할당하면, 그 부서는 pop으로 빼고, answer(예산 할당 부서의 수)을 1 추가합니다."
   ]
  },
  {
   "cell_type": "code",
   "execution_count": null,
   "metadata": {},
   "outputs": [],
   "source": [
    "def solution(d, budget):\n",
    "    answer = 0\n",
    "    d.sort()\n",
    "    while budget > 0:\n",
    "        if budget - d[0] >=0 :\n",
    "            budget -= d.pop(0)\n",
    "            answer += 1\n",
    "        else:\n",
    "            return answer\n",
    "    \n",
    "    return answer"
   ]
  },
  {
   "cell_type": "markdown",
   "metadata": {},
   "source": [
    "But.. 런타임 에러"
   ]
  },
  {
   "cell_type": "code",
   "execution_count": null,
   "metadata": {},
   "outputs": [],
   "source": [
    "def solution(d, budget):\n",
    "    answer = 0\n",
    "    while budget > 0:\n",
    "        if budget - min(d) >=0 :\n",
    "            budget -= min(d)\n",
    "            d.remove(min(d))\n",
    "            answer += 1\n",
    "        else:\n",
    "            return answer\n",
    "    \n",
    "    return answer"
   ]
  },
  {
   "cell_type": "markdown",
   "metadata": {},
   "source": [
    "But.. 런타임 에러\n"
   ]
  },
  {
   "cell_type": "markdown",
   "metadata": {},
   "source": [
    "---\n",
    "1. 부서를 오름차순으로 정렬한다\n",
    "2. 예산이 적은 부서부터 예산을 할당하고, answer(예산 할당 성공 부서의 수) 1을 추가한다.\n",
    "3. 예산이 0보다 작아질 경우, answer return한다.\n",
    "\n",
    "*기존 리스트 d에서 빼주지 않아도 되기때문에 메모리효율 상승한다.\n"
   ]
  },
  {
   "cell_type": "code",
   "execution_count": null,
   "metadata": {},
   "outputs": [],
   "source": [
    "def solution(d, budget):\n",
    "    answer = 0\n",
    "    d.sort()\n",
    "    for i in d:\n",
    "        if budget - i >=0 :\n",
    "            budget -= i\n",
    "            answer += 1 \n",
    "        else:\n",
    "            return answer\n",
    "        \n",
    "    return answer"
   ]
  },
  {
   "cell_type": "markdown",
   "metadata": {},
   "source": [
    "성공"
   ]
  }
 ],
 "metadata": {
  "kernelspec": {
   "display_name": "Python 3",
   "language": "python",
   "name": "python3"
  },
  "language_info": {
   "codemirror_mode": {
    "name": "ipython",
    "version": 3
   },
   "file_extension": ".py",
   "mimetype": "text/x-python",
   "name": "python",
   "nbconvert_exporter": "python",
   "pygments_lexer": "ipython3",
   "version": "3.7.6"
  }
 },
 "nbformat": 4,
 "nbformat_minor": 4
}
