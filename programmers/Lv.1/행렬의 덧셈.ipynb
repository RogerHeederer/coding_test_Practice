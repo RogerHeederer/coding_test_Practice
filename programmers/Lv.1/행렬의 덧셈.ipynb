{
 "cells": [
  {
   "cell_type": "code",
   "execution_count": 27,
   "metadata": {},
   "outputs": [
    {
     "name": "stdout",
     "output_type": "stream",
     "text": [
      "[[5, 7], [6, 6]]\n"
     ]
    }
   ],
   "source": [
    "import numpy as np\n",
    "\n",
    "def solution(arr1, arr2):\n",
    "    a1 = np.array(arr1)\n",
    "    a2 = np.array(arr2)\n",
    "    answer = (a1+a2).tolist()\n",
    "    \n",
    "    return answer\n",
    "\n",
    "print(solution([[1,2],[3,4]], [[4,5],[3,2]]  ))"
   ]
  },
  {
   "cell_type": "markdown",
   "metadata": {},
   "source": [
    "---\n"
   ]
  },
  {
   "cell_type": "code",
   "execution_count": 21,
   "metadata": {},
   "outputs": [
    {
     "name": "stdout",
     "output_type": "stream",
     "text": [
      "행렬의 덧셈 결과 \n",
      " [[5 7]\n",
      " [6 6]] \n",
      "\n",
      "행렬 -> 리스트 \n",
      " [[5, 7], [6, 6]]\n"
     ]
    }
   ],
   "source": [
    "import numpy as np\n",
    "\n",
    "arr1 = [[1,2],[3,4]]\n",
    "arr2 = [[4,5],[3,2]]\n",
    "\n",
    "a1 = np.array(arr1)\n",
    "a2 = np.array(arr2)\n",
    "\n",
    "answer_ = a1+ a2 \n",
    "answer = answer_.tolist()\n",
    "\n",
    "\n",
    "print('행렬의 덧셈 결과 \\n',answer_,'\\n')\n",
    "print('행렬 -> 리스트 \\n' ,answer)"
   ]
  }
 ],
 "metadata": {
  "kernelspec": {
   "display_name": "Python 3",
   "language": "python",
   "name": "python3"
  },
  "language_info": {
   "codemirror_mode": {
    "name": "ipython",
    "version": 3
   },
   "file_extension": ".py",
   "mimetype": "text/x-python",
   "name": "python",
   "nbconvert_exporter": "python",
   "pygments_lexer": "ipython3",
   "version": "3.7.6"
  }
 },
 "nbformat": 4,
 "nbformat_minor": 4
}
