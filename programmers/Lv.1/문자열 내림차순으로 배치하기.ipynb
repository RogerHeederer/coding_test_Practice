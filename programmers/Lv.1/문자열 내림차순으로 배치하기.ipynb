{
 "cells": [
  {
   "cell_type": "code",
   "execution_count": 8,
   "metadata": {},
   "outputs": [
    {
     "data": {
      "text/plain": [
       "'sfddaWWEDDB'"
      ]
     },
     "execution_count": 8,
     "metadata": {},
     "output_type": "execute_result"
    }
   ],
   "source": [
    "def solution(s):\n",
    "    answer1 = ''\n",
    "    answer2 = ''\n",
    "    s = sorted(s,reverse = True)\n",
    "    for i in s[:]:\n",
    "        if i.islower():\n",
    "            answer1 += i\n",
    "        else:\n",
    "            answer2 += i\n",
    "    answer = answer1+answer2\n",
    "    return answer\n",
    "\n"
   ]
  },
  {
   "cell_type": "code",
   "execution_count": 14,
   "metadata": {},
   "outputs": [
    {
     "data": {
      "text/plain": [
       "'sfddaWWEDDB'"
      ]
     },
     "execution_count": 14,
     "metadata": {},
     "output_type": "execute_result"
    }
   ],
   "source": [
    "def solution(s):\n",
    "    answer = ''\n",
    "    s = sorted(s,reverse = True)\n",
    "    for i in s:\n",
    "        answer+= i\n",
    "    return answer\n",
    "\n",
    "solution('BEdasDDWdWf')"
   ]
  }
 ],
 "metadata": {
  "kernelspec": {
   "display_name": "Python 3",
   "language": "python",
   "name": "python3"
  },
  "language_info": {
   "codemirror_mode": {
    "name": "ipython",
    "version": 3
   },
   "file_extension": ".py",
   "mimetype": "text/x-python",
   "name": "python",
   "nbconvert_exporter": "python",
   "pygments_lexer": "ipython3",
   "version": "3.7.6"
  }
 },
 "nbformat": 4,
 "nbformat_minor": 4
}
