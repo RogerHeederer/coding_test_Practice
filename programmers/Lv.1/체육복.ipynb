{
 "cells": [
  {
   "cell_type": "markdown",
   "metadata": {},
   "source": [
    "# 체육복\n",
    "\n",
    "#### 문제 설명\n",
    "점심시간에 도둑이 들어, 일부 학생이 체육복을 도난당했습니다.   \n",
    "다행히 여벌 체육복이 있는 학생이 이들에게 체육복을 빌려주려 합니다.    \n",
    "학생들의 번호는 체격 순으로 매겨져 있어, 바로 앞번호의 학생이나 바로 뒷번호의 학생에게만 체육복을 빌려줄 수 있습니다.   \n",
    "예를 들어, 4번 학생은 3번 학생이나 5번 학생에게만 체육복을 빌려줄 수 있습니다.   \n",
    "체육복이 없으면 수업을 들을 수 없기 때문에 체육복을 적절히 빌려 최대한 많은 학생이 체육수업을 들어야 합니다.   \n",
    "   \n",
    "전체 학생의 수 n, 체육복을 도난당한 학생들의 번호가 담긴 배열 lost, 여벌의 체육복을 가져온 학생들의 번호가 담긴 배열 reserve가   \n",
    "매개변수로 주어질 때, 체육수업을 들을 수 있는 학생의 최댓값을 return 하도록 solution 함수를 작성해주세요.   \n",
    "\n",
    "   \n",
    "#### 제한사항\n",
    "전체 학생의 수는 2명 이상 30명 이하입니다.   \n",
    "체육복을 도난당한 학생의 수는 1명 이상 n명 이하이고 중복되는 번호는 없습니다.   \n",
    "여벌의 체육복을 가져온 학생의 수는 1명 이상 n명 이하이고 중복되는 번호는 없습니다.   \n",
    "여벌 체육복이 있는 학생만 다른 학생에게 체육복을 빌려줄 수 있습니다.   \n",
    "여벌 체육복을 가져온 학생이 체육복을 도난당했을 수 있습니다.    \n",
    "이때 이 학생은 체육복을 하나만 도난당했다고 가정하며, 남은 체육복이 하나이기에 다른 학생에게는 체육복을 빌려줄 수 없습니다."
   ]
  },
  {
   "cell_type": "markdown",
   "metadata": {},
   "source": [
    "#### Sol 1"
   ]
  },
  {
   "cell_type": "code",
   "execution_count": null,
   "metadata": {},
   "outputs": [],
   "source": [
    "def solution(n, lost, reserve):\n",
    "    array = [1]*(n+1)\n",
    "    for i in lost:\n",
    "        array[i] -= 1\n",
    "    for j in reserve:\n",
    "        array[j] += 1 \n",
    "\n",
    "    for k in range(len(array)):\n",
    "        if array[k]==2:\n",
    "            if array[k-1]==0 :\n",
    "                array[k] -=1\n",
    "                array[k-1] +=1\n",
    "                k+=1\n",
    "            elif array[k+1]==0:\n",
    "                array[k] -=1\n",
    "                array[k+1] +=1\n",
    "                k+=1\n",
    "    array.pop(0)\n",
    "    answer = array.count(1)+array.count(2)\n",
    "    return answer"
   ]
  },
  {
   "cell_type": "markdown",
   "metadata": {},
   "source": [
    "#### Sol 2\n"
   ]
  },
  {
   "cell_type": "code",
   "execution_count": 51,
   "metadata": {
    "scrolled": false
   },
   "outputs": [
    {
     "name": "stdout",
     "output_type": "stream",
     "text": [
      "[1, 2, 0, 2, 0, 2]\n",
      "5\n",
      "[1, 1, 1, 1, 2]\n"
     ]
    }
   ],
   "source": [
    "n = 5\n",
    "lost = [2,4]\n",
    "reserve = [1,3,5]\n",
    "array= [1]*(n+1)\n",
    "\n",
    "for i in lost:\n",
    "    array[i] -= 1\n",
    "for j in reserve:\n",
    "    array[j] += 1 \n",
    "print(array)\n",
    "if array[1] == 2 and array[2] == 0:\n",
    "    array[1]-= 1  \n",
    "    array[2]+=1\n",
    "for k in range(2,len(array)-1):\n",
    "    if array[k]==2:\n",
    "        if array[k-1]==0 :\n",
    "            array[k] -=1\n",
    "            array[k-1] +=1\n",
    "            \n",
    "        elif array[k+1]==0:\n",
    "            array[k] -=1\n",
    "            array[k+1] +=1\n",
    "        else :\n",
    "            continue\n",
    "            \n",
    "array.pop(0)\n",
    "print(array.count(1)+array.count(2))\n",
    "print(array)"
   ]
  },
  {
   "cell_type": "markdown",
   "metadata": {},
   "source": [
    "#### Solve !\n"
   ]
  },
  {
   "cell_type": "code",
   "execution_count": null,
   "metadata": {},
   "outputs": [],
   "source": [
    "def solution(n, lost, reserve):\n",
    "    array= [1]*(n+1)\n",
    "\n",
    "    for i in lost:\n",
    "        array[i] -= 1\n",
    "    for j in reserve:\n",
    "        array[j] += 1 \n",
    "        \n",
    "    if array[1] == 2 and array[2] == 0:\n",
    "        array[1]-= 1  \n",
    "        array[2]+=1\n",
    "    for k in range(2,len(array)-1):\n",
    "        \n",
    "        if array[k]==2:\n",
    "            if array[k-1]==0 :\n",
    "                array[k] -=1\n",
    "                array[k-1] +=1\n",
    "\n",
    "            elif array[k+1]==0:\n",
    "                array[k] -=1\n",
    "                array[k+1] +=1\n",
    "            else :\n",
    "                continue\n",
    "    if array[-1] ==2 and array[-2]==0:\n",
    "        array[-1] -= 1\n",
    "        array[-2] +=1\n",
    "        \n",
    "    array.pop(0)\n",
    "    answer = array.count(1)+array.count(2)\n",
    "    return answer"
   ]
  }
 ],
 "metadata": {
  "kernelspec": {
   "display_name": "Python 3",
   "language": "python",
   "name": "python3"
  },
  "language_info": {
   "codemirror_mode": {
    "name": "ipython",
    "version": 3
   },
   "file_extension": ".py",
   "mimetype": "text/x-python",
   "name": "python",
   "nbconvert_exporter": "python",
   "pygments_lexer": "ipython3",
   "version": "3.7.6"
  }
 },
 "nbformat": 4,
 "nbformat_minor": 4
}
