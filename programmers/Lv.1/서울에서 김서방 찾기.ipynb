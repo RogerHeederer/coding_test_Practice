{
 "cells": [
  {
   "cell_type": "code",
   "execution_count": 4,
   "metadata": {},
   "outputs": [
    {
     "name": "stdout",
     "output_type": "stream",
     "text": [
      "김서방은 3에 있다\n"
     ]
    }
   ],
   "source": [
    "def solution(seoul):\n",
    "    Where_is_Kim = seoul.index(\"Kim\")\n",
    "    answer = '김서방은 %d에 있다' %Where_is_Kim\n",
    "    return answer\n",
    "\n",
    "print(solution(['Heon','soo','Lee','Kim']))"
   ]
  }
 ],
 "metadata": {
  "kernelspec": {
   "display_name": "Python 3",
   "language": "python",
   "name": "python3"
  },
  "language_info": {
   "codemirror_mode": {
    "name": "ipython",
    "version": 3
   },
   "file_extension": ".py",
   "mimetype": "text/x-python",
   "name": "python",
   "nbconvert_exporter": "python",
   "pygments_lexer": "ipython3",
   "version": "3.7.6"
  }
 },
 "nbformat": 4,
 "nbformat_minor": 4
}
