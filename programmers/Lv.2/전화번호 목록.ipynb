{
 "cells": [
  {
   "cell_type": "markdown",
   "metadata": {},
   "source": [
    "# 전화번호 목록\n",
    "\n",
    "전화번호부에 적힌 전화번호를 담은 배열 phone_book 이  \n",
    "solution 함수의 매개변수로 주어질 때,  \n",
    "어떤 번호가 다른 번호의 접두어인 경우가 있으면,  \n",
    "false를 그렇지 않으면 true를 return 하도록 solution 함수를 작성해주세요.  "
   ]
  },
  {
   "cell_type": "markdown",
   "metadata": {},
   "source": [
    "처음 문제를 받았을때 예제를 보고 첫 번째 번호가 다른 번호의 접두어에 속하면 False로 착각하였습니다.  \n",
    "하지만 phone_book 내의 모든 번호가 다른 번호의 접두어가 되는 경우였기에 정답이 될 수 없었습니다..! 참고하세요!  \n",
    "- 교훈 : 문제 잘 읽기"
   ]
  },
  {
   "cell_type": "code",
   "execution_count": 48,
   "metadata": {},
   "outputs": [
    {
     "name": "stdout",
     "output_type": "stream",
     "text": [
      "False\n",
      "True\n"
     ]
    }
   ],
   "source": [
    "def solution(phone_book):\n",
    "    answer = True    \n",
    "    for i in range(1,len(phone_book)):\n",
    "        if phone_book[0] in phone_book[i]:\n",
    "            if phone_book[i][0:len(phone_book[0])] == phone_book[0]: \n",
    "                answer = False\n",
    "            \n",
    "    \n",
    "    return answer\n",
    "\n",
    "print(solution([\"12\", \"123\", \"1235\", \"567\", \"88\"]))\n",
    "print(solution([\"987\", \"123\", \"1235\", \"567\", \"88\"]))"
   ]
  },
  {
   "cell_type": "markdown",
   "metadata": {},
   "source": [
    "위에 너무 보기 어려워   \n",
    "prefix를 선언해서 조금 더 보기 쉽게 표현했습니다."
   ]
  },
  {
   "cell_type": "code",
   "execution_count": 52,
   "metadata": {},
   "outputs": [
    {
     "name": "stdout",
     "output_type": "stream",
     "text": [
      "False\n",
      "True\n"
     ]
    }
   ],
   "source": [
    "def solution(phone_book):\n",
    "    answer = True    \n",
    "    \n",
    "    prefix = phone_book[0]\n",
    "\n",
    "    for num in phone_book[1:]:\n",
    "        if prefix in num:\n",
    "            if num[0:len(prefix)] == prefix: \n",
    "\n",
    "            \n",
    "                answer= False\n",
    "                break\n",
    "\n",
    "    return answer\n",
    "print(solution([\"12\", \"123\", \"1235\", \"567\", \"88\"]))\n",
    "\n",
    "print(solution([\"987\", \"123\", \"1235\", \"567\", \"88\"]))"
   ]
  },
  {
   "cell_type": "markdown",
   "metadata": {},
   "source": [
    "0) answer을 처음에 True로 설정 후, 전화번호목록 내에서 접두어로 가지는 번호가 없으면 바로 True를 return하도록 했습니다.  \n",
    "  \n",
    "1) for문을 이용해 전화번호 목록 내에서 모든 번호가 prefix를 받도록 설정했습니다.  \n",
    "  \n",
    "2) 중첩 for문으로 전화번호 목록 내에서 위에서 선언한 prefix를 가지는 번호가 있는지 확인했습니다.  \n",
    "       +) 아, 이때 접두어로 가지는지 확인하면 무엇이 더 빠른지 확인 해봐야겠습니다. (+ 더 느려졌습니다.)\n",
    "           \n",
    "3) 만약 prefix가 속한 번호가 있다면, 접두어로 가지는지 확인을 하였습니다.  \n",
    "   \n",
    "4) 이때 한가지 문제가 발생했는데, prefix로 선언한 번호가 전화번호로 잡혀 들어온 경우가 있습니다.    \n",
    "   따라서, prefix가 해당 번호와 같지 않을 경우로 조건을 하나 더 추가하였습니다.    \n",
    "    \n",
    "5) 이 경우에 해당하면 answer을 False로 선언하고 return 했습니다. \n",
    "   +) answer 선언 하지 않고 그냥 False를 return해도 됩니다!\n"
   ]
  },
  {
   "cell_type": "code",
   "execution_count": null,
   "metadata": {},
   "outputs": [],
   "source": [
    "def solution(phone_book):\n",
    "    answer = True    \n",
    "    for i in range(len(phone_book)):\n",
    "        prefix = phone_book[i]\n",
    "        for num in phone_book:\n",
    "            if prefix in num:\n",
    "                if num[0:len(prefix)] == prefix and num != prefix: \n",
    "                    answer= False\n",
    "                    return answer\n",
    "    return answer\n",
    "\n",
    "\n",
    "print(solution([\"12\", \"123\", \"1235\", \"567\", \"88\"]))\n",
    "\n",
    "print(solution([\"987\", \"123\", \"1235\", \"567\", \"88\"]))"
   ]
  },
  {
   "cell_type": "markdown",
   "metadata": {},
   "source": [
    "# 최종"
   ]
  },
  {
   "cell_type": "markdown",
   "metadata": {},
   "source": [
    "\n",
    "- 통과 (0.47ms, 10.8MB)\n",
    "- 통과 (0.41ms, 10.9MB)"
   ]
  },
  {
   "cell_type": "code",
   "execution_count": 57,
   "metadata": {},
   "outputs": [
    {
     "name": "stdout",
     "output_type": "stream",
     "text": [
      "False\n",
      "False\n"
     ]
    }
   ],
   "source": [
    "def solution(phone_book):\n",
    "    answer = True    \n",
    "    for i in range(len(phone_book)):\n",
    "        prefix = phone_book[i]\n",
    "        for num in phone_book:\n",
    "            if prefix in num:\n",
    "                if num[0:len(prefix)] == prefix and num != prefix: \n",
    "                    return  False\n",
    "    return answer\n",
    "\n",
    "\n",
    "print(solution([\"12\", \"123\", \"1235\", \"567\", \"88\"]))\n",
    "\n",
    "print(solution([\"987\", \"123\", \"1235\", \"567\", \"88\"]))"
   ]
  },
  {
   "cell_type": "markdown",
   "metadata": {},
   "source": [
    "- 통과 (1.15ms, 10.8MB)\n",
    "- 통과 (1.35ms, 10.8MB)"
   ]
  },
  {
   "cell_type": "code",
   "execution_count": 60,
   "metadata": {},
   "outputs": [
    {
     "name": "stdout",
     "output_type": "stream",
     "text": [
      "False\n",
      "False\n"
     ]
    }
   ],
   "source": [
    "def solution(phone_book):\n",
    "    answer = True    \n",
    "    for i in range(len(phone_book)):\n",
    "        prefix = phone_book[i]\n",
    "        for num in phone_book:\n",
    "            if num[0:len(prefix)] == prefix and num != prefix: \n",
    "                return  False\n",
    "    return answer\n",
    "\n",
    "\n",
    "print(solution([\"12\", \"123\", \"1235\", \"567\", \"88\"]))\n",
    "\n",
    "print(solution([\"987\", \"123\", \"1235\", \"567\", \"88\"]))"
   ]
  }
 ],
 "metadata": {
  "kernelspec": {
   "display_name": "Python 3",
   "language": "python",
   "name": "python3"
  },
  "language_info": {
   "codemirror_mode": {
    "name": "ipython",
    "version": 3
   },
   "file_extension": ".py",
   "mimetype": "text/x-python",
   "name": "python",
   "nbconvert_exporter": "python",
   "pygments_lexer": "ipython3",
   "version": "3.7.6"
  }
 },
 "nbformat": 4,
 "nbformat_minor": 4
}
